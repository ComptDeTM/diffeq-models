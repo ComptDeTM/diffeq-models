{
 "cells": [
  {
   "cell_type": "code",
   "execution_count": 1,
   "id": "d7700b2b",
   "metadata": {},
   "outputs": [],
   "source": [
    "using DifferentialEquations\n",
    "using Plots\n"
   ]
  },
  {
   "cell_type": "code",
   "execution_count": 2,
   "id": "bbc91916",
   "metadata": {},
   "outputs": [
    {
     "data": {
      "text/plain": [
       "\"function solve_diffeq(u0, grad_fn, dt, nsteps)\\n    p = (dx, D1, D2, f, g)\\n    dt = 0.1\\n    du = similar(u0)\\n    for i in 1:nsteps\\n        grad_fn(du, u0, p, 0)\\n        u0 += dt * du\\n    end\\n    u0\\nend\\n\""
      ]
     },
     "execution_count": 2,
     "metadata": {},
     "output_type": "execute_result"
    }
   ],
   "source": [
    "function laplacian(u, dx)\n",
    "    n = length(u)\n",
    "    du = similar(u)\n",
    "    du[1] = (u[2] - 2u[1] + u[n-1]) / dx^2\n",
    "    du[n] = (u[1] - 2u[n] + u[n-1]) / dx^2\n",
    "    for i in 2:n-1\n",
    "        du[i] = (u[i+1] - 2u[i] + u[i-1]) / dx^2\n",
    "    end\n",
    "    return du\n",
    "end\n",
    "\n",
    "function laplacian_2D(u, dx)\n",
    "    n, m = size(u)\n",
    "    du = zeros(size(u))\n",
    "    for i in 1:n\n",
    "        du[i, :] += laplacian(u[i, :], dx)\n",
    "    end\n",
    "    for i in 1:m\n",
    "        du[:, i] += laplacian(u[:, i], dx)\n",
    "    end\n",
    "    du\n",
    "end\n",
    "\n",
    "function reaction_diffusion!(du, u, p, t)\n",
    "    dx, D1, D2,f, g = p\n",
    "    u0, u1 = u[:, :, 1], u[:, :, 2]\n",
    "    dif_u0 = laplacian_2D(u0, dx)\n",
    "    dif_u1 = laplacian_2D(u1, dx)\n",
    "    \n",
    "    du[:, :, 1] = D1 .* dif_u0 .+ f(u0, u1)\n",
    "    du[:, :, 2] = D2 .* dif_u1 .+ g(u0, u1)\n",
    "end\n",
    "\n",
    "\"\"\"\n",
    "function solve_diffeq(u0, grad_fn, dt, nsteps)\n",
    "    p = (dx, D1, D2, f, g)\n",
    "    dt = 0.1\n",
    "    du = similar(u0)\n",
    "    for i in 1:nsteps\n",
    "        grad_fn(du, u0, p, 0)\n",
    "        u0 += dt * du\n",
    "    end\n",
    "    u0\n",
    "end\n",
    "\"\"\""
   ]
  },
  {
   "cell_type": "code",
   "execution_count": 3,
   "id": "9ea5f9eb",
   "metadata": {},
   "outputs": [
    {
     "data": {
      "text/plain": [
       "run_gray_scott (generic function with 2 methods)"
      ]
     },
     "execution_count": 3,
     "metadata": {},
     "output_type": "execute_result"
    }
   ],
   "source": [
    "function run_gray_scott(initialization=\"random\")\n",
    "    D1 = 2e-5\n",
    "    D2 = 1e-5\n",
    "    dx = .01\n",
    "\n",
    "    k0 = 0.022\n",
    "    k1 = 0.051\n",
    "\n",
    "    f = (u, v) -> -u .* v.^2 + k0 .* (1 .- u)\n",
    "    g = (u, v) -> u .* v.^2 - (k0 + k1) .* v\n",
    "\n",
    "\n",
    "    grid_size = 256\n",
    "    u0 = zeros(grid_size, grid_size, 2)\n",
    "    if initialization == \"square\"\n",
    "        u0[100:156, 100:156, 1] .= .9 \n",
    "        u0[100:156, 100:156, 2] .= .1 \n",
    "    elseif initialization == \"random\"\n",
    "        u0[:, :, 1] .+= .95 .+ rand(grid_size, grid_size) * 0.1\n",
    "        u0[:, :, 2] .+=  rand(grid_size, grid_size) * 0.2\n",
    "    end\n",
    "    \n",
    "    p = (dx, D1, D2, f, g)\n",
    "    tspan = (0.0, 3000.)\n",
    "    prob = ODEProblem(reaction_diffusion!, u0, tspan, p)\n",
    "    sol = solve(prob)\n",
    "    sol\n",
    "end\n"
   ]
  },
  {
   "cell_type": "code",
   "execution_count": 14,
   "id": "44140a89",
   "metadata": {},
   "outputs": [],
   "source": [
    "sol = run_gray_scott(\"square\")\n",
    "print(\"\")"
   ]
  },
  {
   "cell_type": "code",
   "execution_count": 15,
   "id": "53379bf8",
   "metadata": {},
   "outputs": [],
   "source": [
    "for i in 1:length(sol)\n",
    "    if (rem(i, 500) == 1) | (i == length(sol))\n",
    "        p = heatmap(sol[i][:,:,1], title=\"t=$(sol.t[i])\")\n",
    "        savefig(p, \"figures/step_$(i).png\")\n",
    "    end\n",
    "end"
   ]
  },
  {
   "cell_type": "code",
   "execution_count": null,
   "id": "fdfbddd4",
   "metadata": {},
   "outputs": [],
   "source": []
  }
 ],
 "metadata": {
  "kernelspec": {
   "display_name": "Julia 1.6.3",
   "language": "julia",
   "name": "julia-1.6"
  },
  "language_info": {
   "file_extension": ".jl",
   "mimetype": "application/julia",
   "name": "julia",
   "version": "1.6.3"
  }
 },
 "nbformat": 4,
 "nbformat_minor": 5
}
